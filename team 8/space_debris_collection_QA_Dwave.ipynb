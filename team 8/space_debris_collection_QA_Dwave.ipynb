{
  "cells": [
    {
      "cell_type": "markdown",
      "source": [
        "# Space debris optimization"
      ],
      "metadata": {
        "id": "c2hhSY64XyJx"
      }
    },
    {
      "cell_type": "markdown",
      "source": [
        "In this work, we solve the combinatorial optimization problem of space debris collection. A challenge for space agencies, satellite producers and any actor involved in space travel is to avoid space debris. In spite of possibly small sizes, their speeds on orbits make any collision with satellite or spacecraft threaten the success of space expeditions with major damage. Therefore, a major concern is to collect these debris and destroy them at the entrance of the atmosphere."
      ],
      "metadata": {
        "id": "nW1e0XEVXnbE"
      }
    },
    {
      "cell_type": "markdown",
      "source": [
        "The problem is the following. Debris collection journeys are expensive, since the quantity of fuels used to propel the engins is massive, and the capacity of each space craft limits the amount of space garbage that can be collected. To optimize each trip to space, we must therefore seek debris located at particular locations, such that they minimize the distance and hence the fuel consumption, and they maximize the quantity of trash collected. We solve the latter problem first, and add further constraints to the problem progressively."
      ],
      "metadata": {
        "id": "hmdW6xcZXphY"
      }
    },
    {
      "cell_type": "markdown",
      "source": [
        "Let us first consider the problem of maximization of the volume of trash that is collected. This task is related to the knapsack problem. \n",
        "\n",
        "We start with a set of N debris. We encode the information about the debris to collect in a bitstring:\n",
        "\\begin{equation}\n",
        "z = z_1 z_2 \\cdots z_N, \\text{where } z_i = \\begin{cases}\n",
        "1, & \\text{if debris i is collected} \\\\\n",
        "0, & \\text{if otherwise.}\n",
        "\\end{cases}\n",
        "\\end{equation}\n",
        "\n",
        "To solve the problem with brute force method, we must inspect all possible bitstrings $z$ and pick the one that maximizes the volume of the debris collected. Therefore, it is a combinatorial optimization problem. To formulate it, we pair each debris $i$ with its weight/size $w_i$. The debris locations can be reported on a graph with edge set $E$ and vertex set $V$ such that $G = \\{E,V\\}$. Each vertex is associated with a weight, and each edge $i -j$ with a distance $d_{ij}$. With these notations, we encode the problem into the cost function:\n",
        "\\begin{equation}\n",
        "C(z) = (V-\\sum_{i=1}^{N} w_i z_i)^2 + \\sum_{i<j}^{N} d_{ij} z_i z_j\n",
        "\\end{equation}\n",
        "where the first term corresponds to the knapsack problem and the second aims at minimizing the travelled distance. To simplify the implementation, the constant term can be removed:\n",
        "\\begin{align}\n",
        "C(z) &=  \\sum_{i=1}^{N} w_i^2 z_i^2 + 2\\sum_{i<j}^N w_i w_j z_i z_j -  2V\\sum_{i=1}^{N} w_i z_i + V^2 + \\sum_{i<j}^{N} d_{ij} z_i z_j \\\\\n",
        " & = \\sum_{i=1}^{N} w_i^2 z_i + 2\\sum_{i<j}^N w_i w_j z_i z_j -  2V\\sum_{i=1}^{N} w_i z_i + \\sum_{i<j}^{N} d_{ij} z_i z_j\n",
        "\\end{align}"
      ],
      "metadata": {
        "id": "zRBNFQsfX9SA"
      }
    },
    {
      "cell_type": "code",
      "execution_count": 1,
      "metadata": {
        "colab": {
          "base_uri": "https://localhost:8080/",
          "height": 1000
        },
        "id": "iEYhchm4dvze",
        "outputId": "0055659e-700a-4cc2-a850-d6c8928a0d69"
      },
      "outputs": [
        {
          "output_type": "stream",
          "name": "stdout",
          "text": [
            "Looking in indexes: https://pypi.org/simple, https://us-python.pkg.dev/colab-wheels/public/simple/\n",
            "Collecting pennylane\n",
            "  Downloading PennyLane-0.25.1-py3-none-any.whl (1.0 MB)\n",
            "\u001b[K     |████████████████████████████████| 1.0 MB 6.8 MB/s \n",
            "\u001b[?25hRequirement already satisfied: numpy in /usr/local/lib/python3.7/dist-packages (from pennylane) (1.21.6)\n",
            "Collecting autoray>=0.3.1\n",
            "  Downloading autoray-0.3.2-py3-none-any.whl (36 kB)\n",
            "Requirement already satisfied: autograd in /usr/local/lib/python3.7/dist-packages (from pennylane) (1.4)\n",
            "Collecting semantic-version>=2.7\n",
            "  Downloading semantic_version-2.10.0-py2.py3-none-any.whl (15 kB)\n",
            "Requirement already satisfied: scipy in /usr/local/lib/python3.7/dist-packages (from pennylane) (1.7.3)\n",
            "Requirement already satisfied: cachetools in /usr/local/lib/python3.7/dist-packages (from pennylane) (4.2.4)\n",
            "Requirement already satisfied: appdirs in /usr/local/lib/python3.7/dist-packages (from pennylane) (1.4.4)\n",
            "Collecting retworkx\n",
            "  Downloading retworkx-0.11.0-cp37-cp37m-manylinux_2_5_x86_64.manylinux1_x86_64.manylinux_2_12_x86_64.manylinux2010_x86_64.whl (1.6 MB)\n",
            "\u001b[K     |████████████████████████████████| 1.6 MB 61.2 MB/s \n",
            "\u001b[?25hCollecting pennylane-lightning>=0.25\n",
            "  Downloading PennyLane_Lightning-0.25.0-cp37-cp37m-manylinux_2_17_x86_64.manylinux2014_x86_64.whl (13.6 MB)\n",
            "\u001b[K     |████████████████████████████████| 13.6 MB 30.1 MB/s \n",
            "\u001b[?25hRequirement already satisfied: networkx in /usr/local/lib/python3.7/dist-packages (from pennylane) (2.6.3)\n",
            "Requirement already satisfied: toml in /usr/local/lib/python3.7/dist-packages (from pennylane) (0.10.2)\n",
            "Collecting ninja\n",
            "  Downloading ninja-1.10.2.3-py2.py3-none-manylinux_2_5_x86_64.manylinux1_x86_64.whl (108 kB)\n",
            "\u001b[K     |████████████████████████████████| 108 kB 99.8 MB/s \n",
            "\u001b[?25hRequirement already satisfied: future>=0.15.2 in /usr/local/lib/python3.7/dist-packages (from autograd->pennylane) (0.16.0)\n",
            "Installing collected packages: ninja, semantic-version, retworkx, pennylane-lightning, autoray, pennylane\n",
            "Successfully installed autoray-0.3.2 ninja-1.10.2.3 pennylane-0.25.1 pennylane-lightning-0.25.0 retworkx-0.11.0 semantic-version-2.10.0\n",
            "Looking in indexes: https://pypi.org/simple, https://us-python.pkg.dev/colab-wheels/public/simple/\n",
            "Requirement already satisfied: networkx in /usr/local/lib/python3.7/dist-packages (2.6.3)\n",
            "Looking in indexes: https://pypi.org/simple, https://us-python.pkg.dev/colab-wheels/public/simple/\n",
            "Collecting dwave-ocean-sdk\n",
            "  Downloading dwave_ocean_sdk-5.3.0-py3-none-any.whl (8.4 kB)\n",
            "Collecting dwave-system==1.15.0\n",
            "  Downloading dwave_system-1.15.0-py3-none-any.whl (90 kB)\n",
            "\u001b[K     |████████████████████████████████| 90 kB 6.2 MB/s \n",
            "\u001b[?25hCollecting penaltymodel==1.0.2\n",
            "  Downloading penaltymodel-1.0.2-py3-none-any.whl (36 kB)\n",
            "Collecting dwave-greedy==0.2.5\n",
            "  Downloading dwave_greedy-0.2.5-cp37-cp37m-manylinux_2_17_x86_64.manylinux2014_x86_64.whl (658 kB)\n",
            "\u001b[K     |████████████████████████████████| 658 kB 50.7 MB/s \n",
            "\u001b[?25hCollecting minorminer==0.2.9\n",
            "  Downloading minorminer-0.2.9-cp37-cp37m-manylinux_2_12_x86_64.manylinux2010_x86_64.whl (5.3 MB)\n",
            "\u001b[K     |████████████████████████████████| 5.3 MB 32.7 MB/s \n",
            "\u001b[?25hCollecting dwave-cloud-client==0.10.1\n",
            "  Downloading dwave_cloud_client-0.10.1-py3-none-any.whl (108 kB)\n",
            "\u001b[K     |████████████████████████████████| 108 kB 103.9 MB/s \n",
            "\u001b[?25hCollecting dwave-tabu==0.4.5\n",
            "  Downloading dwave_tabu-0.4.5-cp37-cp37m-manylinux_2_17_x86_64.manylinux2014_x86_64.whl (700 kB)\n",
            "\u001b[K     |████████████████████████████████| 700 kB 72.9 MB/s \n",
            "\u001b[?25hCollecting dwave-preprocessing==0.4.0\n",
            "  Downloading dwave_preprocessing-0.4.0-cp37-cp37m-manylinux_2_12_x86_64.manylinux2010_x86_64.whl (966 kB)\n",
            "\u001b[K     |████████████████████████████████| 966 kB 66.8 MB/s \n",
            "\u001b[?25hCollecting dwave-networkx==0.8.12\n",
            "  Downloading dwave_networkx-0.8.12-py3-none-any.whl (97 kB)\n",
            "\u001b[K     |████████████████████████████████| 97 kB 9.7 MB/s \n",
            "\u001b[?25hCollecting dwavebinarycsp==0.2.0\n",
            "  Downloading dwavebinarycsp-0.2.0-py3-none-any.whl (35 kB)\n",
            "Collecting dwave-neal==0.5.9\n",
            "  Downloading dwave_neal-0.5.9-cp37-cp37m-manylinux_2_5_x86_64.manylinux1_x86_64.manylinux_2_12_x86_64.manylinux2010_x86_64.whl (497 kB)\n",
            "\u001b[K     |████████████████████████████████| 497 kB 58.9 MB/s \n",
            "\u001b[?25hCollecting dwave-hybrid==0.6.8\n",
            "  Downloading dwave_hybrid-0.6.8-py3-none-any.whl (69 kB)\n",
            "\u001b[K     |████████████████████████████████| 69 kB 9.4 MB/s \n",
            "\u001b[?25hCollecting dimod==0.11.3\n",
            "  Downloading dimod-0.11.3-cp37-cp37m-manylinux_2_12_x86_64.manylinux2010_x86_64.whl (11.9 MB)\n",
            "\u001b[K     |████████████████████████████████| 11.9 MB 16.1 MB/s \n",
            "\u001b[?25hCollecting dwave-inspector==0.3.0\n",
            "  Downloading dwave_inspector-0.3.0-py3-none-any.whl (26 kB)\n",
            "Requirement already satisfied: numpy<2.0.0,>=1.17.3 in /usr/local/lib/python3.7/dist-packages (from dimod==0.11.3->dwave-ocean-sdk) (1.21.6)\n",
            "Requirement already satisfied: pydantic>=1.7.3 in /usr/local/lib/python3.7/dist-packages (from dwave-cloud-client==0.10.1->dwave-ocean-sdk) (1.9.2)\n",
            "Collecting homebase>=1.0\n",
            "  Downloading homebase-1.0.1-py2.py3-none-any.whl (11 kB)\n",
            "Requirement already satisfied: python-dateutil>=2.7 in /usr/local/lib/python3.7/dist-packages (from dwave-cloud-client==0.10.1->dwave-ocean-sdk) (2.8.2)\n",
            "Collecting plucky>=0.4.3\n",
            "  Downloading plucky-0.4.3-py2.py3-none-any.whl (10 kB)\n",
            "Requirement already satisfied: click>=7.0 in /usr/local/lib/python3.7/dist-packages (from dwave-cloud-client==0.10.1->dwave-ocean-sdk) (7.1.2)\n",
            "Requirement already satisfied: requests[socks]>=2.18 in /usr/local/lib/python3.7/dist-packages (from dwave-cloud-client==0.10.1->dwave-ocean-sdk) (2.23.0)\n",
            "Collecting diskcache>=5.2.1\n",
            "  Downloading diskcache-5.4.0-py3-none-any.whl (44 kB)\n",
            "\u001b[K     |████████████████████████████████| 44 kB 3.9 MB/s \n",
            "\u001b[?25hRequirement already satisfied: importlib-metadata>=1.0 in /usr/local/lib/python3.7/dist-packages (from dwave-greedy==0.2.5->dwave-ocean-sdk) (4.12.0)\n",
            "Requirement already satisfied: networkx in /usr/local/lib/python3.7/dist-packages (from dwave-hybrid==0.6.8->dwave-ocean-sdk) (2.6.3)\n",
            "Requirement already satisfied: Flask>=1.1.1 in /usr/local/lib/python3.7/dist-packages (from dwave-inspector==0.3.0->dwave-ocean-sdk) (1.1.4)\n",
            "Requirement already satisfied: importlib-resources>=3.2.0 in /usr/local/lib/python3.7/dist-packages (from dwave-inspector==0.3.0->dwave-ocean-sdk) (5.9.0)\n",
            "Collecting rectangle-packer>=2.0.1\n",
            "  Downloading rectangle_packer-2.0.1-cp37-cp37m-manylinux2010_x86_64.whl (246 kB)\n",
            "\u001b[K     |████████████████████████████████| 246 kB 77.8 MB/s \n",
            "\u001b[?25hRequirement already satisfied: scipy in /usr/local/lib/python3.7/dist-packages (from minorminer==0.2.9->dwave-ocean-sdk) (1.7.3)\n",
            "Collecting fasteners\n",
            "  Downloading fasteners-0.17.3-py3-none-any.whl (18 kB)\n",
            "Requirement already satisfied: Werkzeug<2.0,>=0.15 in /usr/local/lib/python3.7/dist-packages (from Flask>=1.1.1->dwave-inspector==0.3.0->dwave-ocean-sdk) (1.0.1)\n",
            "Requirement already satisfied: Jinja2<3.0,>=2.10.1 in /usr/local/lib/python3.7/dist-packages (from Flask>=1.1.1->dwave-inspector==0.3.0->dwave-ocean-sdk) (2.11.3)\n",
            "Requirement already satisfied: itsdangerous<2.0,>=0.24 in /usr/local/lib/python3.7/dist-packages (from Flask>=1.1.1->dwave-inspector==0.3.0->dwave-ocean-sdk) (1.1.0)\n",
            "Requirement already satisfied: typing-extensions>=3.6.4 in /usr/local/lib/python3.7/dist-packages (from importlib-metadata>=1.0->dwave-greedy==0.2.5->dwave-ocean-sdk) (4.1.1)\n",
            "Requirement already satisfied: zipp>=0.5 in /usr/local/lib/python3.7/dist-packages (from importlib-metadata>=1.0->dwave-greedy==0.2.5->dwave-ocean-sdk) (3.8.1)\n",
            "Requirement already satisfied: MarkupSafe>=0.23 in /usr/local/lib/python3.7/dist-packages (from Jinja2<3.0,>=2.10.1->Flask>=1.1.1->dwave-inspector==0.3.0->dwave-ocean-sdk) (2.0.1)\n",
            "Requirement already satisfied: six>=1.5 in /usr/local/lib/python3.7/dist-packages (from python-dateutil>=2.7->dwave-cloud-client==0.10.1->dwave-ocean-sdk) (1.15.0)\n",
            "Requirement already satisfied: urllib3!=1.25.0,!=1.25.1,<1.26,>=1.21.1 in /usr/local/lib/python3.7/dist-packages (from requests[socks]>=2.18->dwave-cloud-client==0.10.1->dwave-ocean-sdk) (1.24.3)\n",
            "Requirement already satisfied: chardet<4,>=3.0.2 in /usr/local/lib/python3.7/dist-packages (from requests[socks]>=2.18->dwave-cloud-client==0.10.1->dwave-ocean-sdk) (3.0.4)\n",
            "Requirement already satisfied: idna<3,>=2.5 in /usr/local/lib/python3.7/dist-packages (from requests[socks]>=2.18->dwave-cloud-client==0.10.1->dwave-ocean-sdk) (2.10)\n",
            "Requirement already satisfied: certifi>=2017.4.17 in /usr/local/lib/python3.7/dist-packages (from requests[socks]>=2.18->dwave-cloud-client==0.10.1->dwave-ocean-sdk) (2022.6.15)\n",
            "Requirement already satisfied: PySocks!=1.5.7,>=1.5.6 in /usr/local/lib/python3.7/dist-packages (from requests[socks]>=2.18->dwave-cloud-client==0.10.1->dwave-ocean-sdk) (1.7.1)\n",
            "Installing collected packages: dimod, rectangle-packer, plucky, homebase, fasteners, dwave-networkx, diskcache, minorminer, dwave-tabu, dwave-preprocessing, dwave-cloud-client, penaltymodel, dwave-system, dwave-neal, dwave-greedy, dwavebinarycsp, dwave-inspector, dwave-hybrid, dwave-ocean-sdk\n",
            "Successfully installed dimod-0.11.3 diskcache-5.4.0 dwave-cloud-client-0.10.1 dwave-greedy-0.2.5 dwave-hybrid-0.6.8 dwave-inspector-0.3.0 dwave-neal-0.5.9 dwave-networkx-0.8.12 dwave-ocean-sdk-5.3.0 dwave-preprocessing-0.4.0 dwave-system-1.15.0 dwave-tabu-0.4.5 dwavebinarycsp-0.2.0 fasteners-0.17.3 homebase-1.0.1 minorminer-0.2.9 penaltymodel-1.0.2 plucky-0.4.3 rectangle-packer-2.0.1\n",
            "Looking in indexes: https://pypi.org/simple, https://us-python.pkg.dev/colab-wheels/public/simple/\n",
            "Collecting dwave-qbsolv\n",
            "  Downloading dwave_qbsolv-0.3.4-cp37-cp37m-manylinux_2_17_x86_64.manylinux2014_x86_64.whl (271 kB)\n",
            "\u001b[K     |████████████████████████████████| 271 kB 9.7 MB/s \n",
            "\u001b[?25hCollecting dimod<0.11.0,>=0.8.1\n",
            "  Downloading dimod-0.10.17-cp37-cp37m-manylinux_2_12_x86_64.manylinux2010_x86_64.whl (13.2 MB)\n",
            "\u001b[K     |████████████████████████████████| 13.2 MB 62.6 MB/s \n",
            "\u001b[?25hRequirement already satisfied: numpy<2.0.0,>=1.19.1 in /usr/local/lib/python3.7/dist-packages (from dimod<0.11.0,>=0.8.1->dwave-qbsolv) (1.21.6)\n",
            "Collecting pyparsing<3.0.0,>=2.4.7\n",
            "  Downloading pyparsing-2.4.7-py2.py3-none-any.whl (67 kB)\n",
            "\u001b[K     |████████████████████████████████| 67 kB 8.6 MB/s \n",
            "\u001b[?25hInstalling collected packages: pyparsing, dimod, dwave-qbsolv\n",
            "  Attempting uninstall: pyparsing\n",
            "    Found existing installation: pyparsing 3.0.9\n",
            "    Uninstalling pyparsing-3.0.9:\n",
            "      Successfully uninstalled pyparsing-3.0.9\n",
            "  Attempting uninstall: dimod\n",
            "    Found existing installation: dimod 0.11.3\n",
            "    Uninstalling dimod-0.11.3:\n",
            "      Successfully uninstalled dimod-0.11.3\n",
            "\u001b[31mERROR: pip's dependency resolver does not currently take into account all the packages that are installed. This behaviour is the source of the following dependency conflicts.\n",
            "dwave-preprocessing 0.4.0 requires dimod<0.12.0,>=0.11.0, but you have dimod 0.10.17 which is incompatible.\n",
            "dwave-ocean-sdk 5.3.0 requires dimod==0.11.3, but you have dimod 0.10.17 which is incompatible.\u001b[0m\n",
            "Successfully installed dimod-0.10.17 dwave-qbsolv-0.3.4 pyparsing-2.4.7\n"
          ]
        },
        {
          "output_type": "display_data",
          "data": {
            "application/vnd.colab-display-data+json": {
              "pip_warning": {
                "packages": [
                  "pyparsing"
                ]
              }
            }
          },
          "metadata": {}
        }
      ],
      "source": [
        "import sys\n",
        "!{sys.executable} -m pip install pennylane\n",
        "!{sys.executable} -m pip install networkx\n",
        "!pip install dwave-ocean-sdk\n",
        "!pip install dwave-qbsolv"
      ]
    },
    {
      "cell_type": "code",
      "execution_count": 2,
      "metadata": {
        "id": "v4ezv_G0Grbh"
      },
      "outputs": [],
      "source": [
        "import networkx as nx\n",
        "import matplotlib.pyplot as plt\n",
        "\n",
        "from dwave.system.samplers import DWaveSampler\n",
        "from dwave.system.composites import EmbeddingComposite\n",
        "import numpy as np\n",
        "from collections import defaultdict"
      ]
    },
    {
      "cell_type": "markdown",
      "metadata": {
        "id": "Cz7Uv9nhFlgu"
      },
      "source": [
        "We start with a dummy data set with 5 debris."
      ]
    },
    {
      "cell_type": "code",
      "execution_count": 3,
      "metadata": {
        "colab": {
          "base_uri": "https://localhost:8080/",
          "height": 427
        },
        "id": "Lu9kg3vT6dmV",
        "outputId": "5734daa4-48b8-4edc-e434-9b33912f9136"
      },
      "outputs": [
        {
          "output_type": "execute_result",
          "data": {
            "text/plain": [
              "{('0', '1'): Text(-0.31213490044069825, 0.0229285235823255, '1'),\n",
              " ('0', '2'): Text(0.18180059090333675, -0.7976561108038269, '2'),\n",
              " ('0', '3'): Text(-0.6981592185316541, -0.4262551763130149, '2'),\n",
              " ('0', '4'): Text(0.2340158724740534, -0.207744883060842, '1'),\n",
              " ('1', '2'): Text(0.26598412752594675, 0.16442417717540436, '1'),\n",
              " ('1', '3'): Text(-0.6139756819090442, 0.5358251116662163, '2'),\n",
              " ('1', '4'): Text(0.3181994090966634, 0.7543354049183892, '2'),\n",
              " ('2', '3'): Text(-0.12004019056500914, -0.28475952271993604, '1'),\n",
              " ('2', '4'): Text(0.8121349004406984, -0.06624922946776313, '2'),\n",
              " ('3', '4'): Text(-0.0678249089942925, 0.30515170502304884, '1')}"
            ]
          },
          "metadata": {},
          "execution_count": 3
        },
        {
          "output_type": "display_data",
          "data": {
            "text/plain": [
              "<Figure size 432x288 with 1 Axes>"
            ],
            "image/png": "[encoded data removed]"
          },
          "metadata": {}
        }
      ],
      "source": [
        "N_vertices = 5\n",
        "G = nx.Graph()\n",
        "\n",
        "for i in range(0,N_vertices):\n",
        "  for j in range(i+1,N_vertices):\n",
        "    if (j-i)%3 == 1:\n",
        "      G.add_edge(str(i), str(j), weight=1)\n",
        "    else:\n",
        "      G.add_edge(str(i), str(j), weight=2)\n",
        "\n",
        "heavy_edges = [(u, v) for (u, v, d) in G.edges(data=True) if d[\"weight\"] > 1]\n",
        "light_edges = [(u, v) for (u, v, d) in G.edges(data=True) if d[\"weight\"] <= 1]\n",
        "pos = nx.spring_layout(G, seed=11) \n",
        "nx.draw_networkx_nodes(G, pos, node_size=700, node_color=\"r\")\n",
        "nx.draw_networkx_edges(G, pos, edgelist=heavy_edges, width=6)\n",
        "nx.draw_networkx_edges(G, pos, edgelist=light_edges, width=6, edge_color=\"b\", style=\"dashed\")\n",
        "nx.draw_networkx_labels(G, pos, font_size=20, font_family=\"sans-serif\")\n",
        "edge_labels = nx.get_edge_attributes(G, \"weight\")\n",
        "nx.draw_networkx_edge_labels(G, pos, edge_labels)"
      ]
    },
    {
      "cell_type": "code",
      "execution_count": 4,
      "metadata": {
        "id": "4h4zgRKF63WU"
      },
      "outputs": [],
      "source": [
        "w = [1,2,7,4,5]\n",
        "Q = defaultdict(int)"
      ]
    },
    {
      "cell_type": "code",
      "execution_count": 5,
      "metadata": {
        "id": "1eB6Yqtm7JCm"
      },
      "outputs": [],
      "source": [
        "# Constraint Knapsack enncoded\n",
        "for i in range(len(w)):\n",
        "  for j in range(i+1,len(w)):\n",
        "    # print(i,j)\n",
        "    # print()\n",
        "    # print(2*w[i]*w[j])\n",
        "    Q[(i,j)] = 2*w[i]*w[j]"
      ]
    },
    {
      "cell_type": "code",
      "execution_count": 6,
      "metadata": {
        "id": "v99Ma6XO7WZB"
      },
      "outputs": [],
      "source": [
        "for i in range(len(w)):\n",
        "  # print(i,i)\n",
        "  Q[(i,i)] = w[i]**2"
      ]
    },
    {
      "cell_type": "code",
      "source": [
        "for i in range(len(w)):\n",
        "  # print(i,i)\n",
        "  Q[(i,i)] += -20*w[i]"
      ],
      "metadata": {
        "id": "jYByCghV5O4K"
      },
      "execution_count": 7,
      "outputs": []
    },
    {
      "cell_type": "code",
      "execution_count": 8,
      "metadata": {
        "id": "rNzz8y9Y7kfH"
      },
      "outputs": [],
      "source": [
        "distances = nx.get_edge_attributes(G, \"weight\")"
      ]
    },
    {
      "cell_type": "code",
      "execution_count": 14,
      "metadata": {
        "id": "fm8LKU-f7mJG"
      },
      "outputs": [],
      "source": [
        "#Objective TSP encoded\n",
        "for i in range(len(w)):\n",
        "  for j in range(i+1,len(w)):\n",
        "    Q[(i,j)] += distances[(str(i),str(j))]"
      ]
    },
    {
      "cell_type": "code",
      "execution_count": 15,
      "metadata": {
        "colab": {
          "base_uri": "https://localhost:8080/"
        },
        "id": "zymGoXSy8KkA",
        "outputId": "cc5d5c7d-d879-4ac0-8fbe-84b90ff30700"
      },
      "outputs": [
        {
          "output_type": "execute_result",
          "data": {
            "text/plain": [
              "defaultdict(int,\n",
              "            {(0, 1): 5,\n",
              "             (0, 2): 16,\n",
              "             (0, 3): 10,\n",
              "             (0, 4): 11,\n",
              "             (1, 2): 29,\n",
              "             (1, 3): 18,\n",
              "             (1, 4): 22,\n",
              "             (2, 3): 57,\n",
              "             (2, 4): 72,\n",
              "             (3, 4): 41,\n",
              "             (0, 0): -19,\n",
              "             (1, 1): -36,\n",
              "             (2, 2): -91,\n",
              "             (3, 3): -64,\n",
              "             (4, 4): -75})"
            ]
          },
          "metadata": {},
          "execution_count": 15
        }
      ],
      "source": [
        "Q"
      ]
    },
    {
      "cell_type": "code",
      "execution_count": 16,
      "metadata": {
        "colab": {
          "base_uri": "https://localhost:8080/"
        },
        "id": "jdHr9BDsialo",
        "outputId": "e73ad8d7-b799-4f25-f1b8-a3c8cc3e4138"
      },
      "outputs": [
        {
          "output_type": "stream",
          "name": "stderr",
          "text": [
            "/usr/local/lib/python3.7/dist-packages/ipykernel_launcher.py:4: DeprecationWarning: QBSolv is deprecated as of the end of 2021 and support will be discontinued after March 2022. Please update your code to use dwave-hybrid or Leap's quantum-classical hybrid solvers instead.\n",
            "  after removing the cwd from sys.path.\n"
          ]
        },
        {
          "output_type": "execute_result",
          "data": {
            "text/plain": [
              "SampleSet(rec.array([([0, 0, 1, 1, 0], -98., 16), ([0, 1, 1, 0, 0], -98., 12),\n",
              "           ([0, 0, 0, 1, 1], -98., 23)],\n",
              "          dtype=[('sample', 'i1', (5,)), ('energy', '<f8'), ('num_occurrences', '<i8')]), Variables([0, 1, 2, 3, 4]), {}, 'BINARY')"
            ]
          },
          "metadata": {},
          "execution_count": 16
        }
      ],
      "source": [
        "from dimod import BinaryQuadraticModel\n",
        "from dwave_qbsolv import QBSolv\n",
        "BQM = BinaryQuadraticModel.from_qubo(Q)\n",
        "response = QBSolv().sample(BQM)\n",
        "response"
      ]
    },
    {
      "cell_type": "code",
      "execution_count": 12,
      "metadata": {
        "id": "wyNHGQgUz1Eg",
        "colab": {
          "base_uri": "https://localhost:8080/"
        },
        "outputId": "dddd2014-23d7-487f-ecd1-c3925a53f22f"
      },
      "outputs": [
        {
          "output_type": "execute_result",
          "data": {
            "text/plain": [
              "[1, 2, 7, 4, 5]"
            ]
          },
          "metadata": {},
          "execution_count": 12
        }
      ],
      "source": [
        "w"
      ]
    },
    {
      "cell_type": "code",
      "source": [
        "sampler = DWaveSampler(token = 'DEV-a93e6e63ce7eef68a4af19e93761099699f4cbe5')\n",
        "sampler = EmbeddingComposite(sampler)\n",
        "response = sampler.sample_qubo(Q, num_reads = 100)\n",
        "response"
      ],
      "metadata": {
        "colab": {
          "base_uri": "https://localhost:8080/"
        },
        "id": "ugc-0Muf7jO4",
        "outputId": "ba055778-68a4-45be-95a8-e022af4e30ac"
      },
      "execution_count": 17,
      "outputs": [
        {
          "output_type": "execute_result",
          "data": {
            "text/plain": [
              "SampleSet(rec.array([([0, 0, 0, 1, 1], -98., 11, 0.),\n",
              "           ([0, 0, 1, 1, 0], -98., 16, 0.),\n",
              "           ([0, 1, 1, 0, 0], -98., 12, 0.),\n",
              "           ([1, 1, 1, 0, 0], -96.,  8, 0.),\n",
              "           ([1, 0, 0, 1, 1], -96.,  9, 0.),\n",
              "           ([0, 1, 0, 1, 1], -94., 11, 0.),\n",
              "           ([1, 0, 1, 0, 0], -94.,  5, 0.),\n",
              "           ([1, 1, 0, 0, 1], -92.,  9, 0.),\n",
              "           ([1, 0, 1, 1, 0], -91.,  4, 0.),\n",
              "           ([0, 0, 1, 0, 0], -91.,  3, 0.),\n",
              "           ([0, 1, 0, 0, 1], -89.,  3, 0.),\n",
              "           ([1, 1, 0, 1, 1], -87.,  3, 0.),\n",
              "           ([0, 1, 1, 1, 0], -87.,  3, 0.),\n",
              "           ([1, 1, 0, 1, 0], -86.,  1, 0.),\n",
              "           ([1, 0, 0, 0, 1], -83.,  1, 0.),\n",
              "           ([0, 1, 1, 0, 1], -79.,  1, 0.)],\n",
              "          dtype=[('sample', 'i1', (5,)), ('energy', '<f8'), ('num_occurrences', '<i8'), ('chain_break_fraction', '<f8')]), Variables([0, 1, 2, 3, 4]), {'timing': {'qpu_sampling_time': 12028.0, 'qpu_anneal_time_per_sample': 20.0, 'qpu_readout_time_per_sample': 79.74, 'qpu_access_time': 27091.56, 'qpu_access_overhead_time': 3990.44, 'qpu_programming_time': 15063.56, 'qpu_delay_time_per_sample': 20.54, 'total_post_processing_time': 547.0, 'post_processing_overhead_time': 547.0}, 'problem_id': 'cadbf0a3-5267-48aa-b67c-ad005ccdefe3'}, 'BINARY')"
            ]
          },
          "metadata": {},
          "execution_count": 17
        }
      ]
    },
    {
      "cell_type": "code",
      "source": [
        ""
      ],
      "metadata": {
        "id": "vtj7vV7c7_73"
      },
      "execution_count": 13,
      "outputs": []
    }
  ],
  "metadata": {
    "colab": {
      "name": "space_debris_collection_QA_Dwave.ipynb",
      "provenance": [],
      "collapsed_sections": []
    },
    "kernelspec": {
      "display_name": "Python 3",
      "name": "python3"
    },
    "language_info": {
      "name": "python"
    }
  },
  "nbformat": 4,
  "nbformat_minor": 0
}